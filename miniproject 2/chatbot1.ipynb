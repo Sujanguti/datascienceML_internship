{
 "cells": [
  {
   "cell_type": "code",
   "execution_count": 1,
   "id": "ae6f6dfb-3e34-4add-aad2-61c99c61c71e",
   "metadata": {},
   "outputs": [
    {
     "name": "stdout",
     "output_type": "stream",
     "text": [
      "['hello', 'how', 'are', 'you', 'doing', 'today']\n"
     ]
    }
   ],
   "source": [
    "import re\n",
    "\n",
    "def preprocess(text):\n",
    "    \"\"\"\n",
    "    Convert text to lowercase, remove punctuation,\n",
    "    and split into tokens (words).\n",
    "    \"\"\"\n",
    "    text = text.lower()  # Lowercase\n",
    "    text = re.sub(r'[^a-z0-9\\s]', '', text)  # Remove punctuation\n",
    "    tokens = text.split()  # Tokenize by splitting on spaces\n",
    "    return tokens\n",
    "\n",
    "# Example usage:\n",
    "example_text = \"Hello, how are you doing today?\"\n",
    "tokens = preprocess(example_text)\n",
    "print(tokens)\n"
   ]
  },
  {
   "cell_type": "code",
   "execution_count": 2,
   "id": "734113f3-5266-4cc7-b9e4-a953f14ed4ca",
   "metadata": {},
   "outputs": [
    {
     "name": "stdout",
     "output_type": "stream",
     "text": [
      "dict_keys(['greeting', 'goodbye', 'thanks', 'how_are_you', 'weather', 'time', 'joke', 'help', 'default'])\n"
     ]
    }
   ],
   "source": [
    "\n",
    "intents = {\n",
    "    \"greeting\": {\n",
    "        \"keywords\": [\"hello\", \"hi\", \"hey\", \"greetings\", \"good morning\", \"good afternoon\", \"good evening\"],\n",
    "        \"responses\": [\n",
    "            \"Hello! How can I assist you today?\",\n",
    "            \"Hi there! What can I do for you?\",\n",
    "            \"Hey! Hope you're having a great day! How can I help?\"\n",
    "        ]\n",
    "    },\n",
    "    \"goodbye\": {\n",
    "        \"keywords\": [\"bye\", \"goodbye\", \"see you later\", \"farewell\", \"exit\", \"quit\", \"catch you later\"],\n",
    "        \"responses\": [\n",
    "            \"Goodbye! Have a wonderful day!\",\n",
    "            \"See you later! Take care!\",\n",
    "            \"Farewell! If you need anything else, just ask.\"\n",
    "        ]\n",
    "    },\n",
    "    \"thanks\": {\n",
    "        \"keywords\": [\"thank you\", \"thanks\", \"thank\", \"much appreciated\", \"grateful\", \"thanks a lot\", \"thanks so much\"],\n",
    "        \"responses\": [\n",
    "            \"You're very welcome!\",\n",
    "            \"No problem at all, happy to help!\",\n",
    "            \"Glad I could assist you!\"\n",
    "        ]\n",
    "    },\n",
    "    \"how_are_you\": {\n",
    "        \"keywords\": [\"how are you\", \"how's it going\", \"how do you do\", \"how have you been\", \"how are things\"],\n",
    "        \"responses\": [\n",
    "            \"I'm just a bot, but I'm running smoothly! How about you?\",\n",
    "            \"Doing well, thanks for asking! How can I help you today?\",\n",
    "            \"I'm great, thanks! What can I do for you?\"\n",
    "        ]\n",
    "    },\n",
    "    \"weather\": {\n",
    "        \"keywords\": [\"weather\", \"temperature\", \"forecast\", \"rain\", \"sunny\", \"cloudy\", \"storm\"],\n",
    "        \"responses\": [\n",
    "            \"I can't check real-time weather yet, but make sure to carry an umbrella if it looks cloudy!\",\n",
    "            \"Weather is unpredictable these days! Have you checked your local weather app?\",\n",
    "            \"I'm not connected to weather data currently, but I hope it's nice outside!\"\n",
    "        ]\n",
    "    },\n",
    "    \"time\": {\n",
    "        \"keywords\": [\"time\", \"current time\", \"what time\", \"clock\", \"hour\", \"minute\"],\n",
    "        \"responses\": [\n",
    "            \"Sorry, I don't have access to the current time, but you can check your device clock!\",\n",
    "            \"I can't tell the time, but it's always a good moment to learn something new!\",\n",
    "            \"Check your watch or phone for the accurate time!\"\n",
    "        ]\n",
    "    },\n",
    "    \"joke\": {\n",
    "        \"keywords\": [\"joke\", \"funny\", \"make me laugh\", \"tell me something funny\", \"humor\"],\n",
    "        \"responses\": [\n",
    "            \"Why don't scientists trust atoms? Because they make up everything!\",\n",
    "            \"I told my computer I needed a break, and it said 'No problem, I'll go to sleep.'\",\n",
    "            \"Why did the math book look sad? Because it had too many problems!\"\n",
    "        ]\n",
    "    },\n",
    "    \"help\": {\n",
    "        \"keywords\": [\"help\", \"support\", \"assist\", \"question\", \"problem\", \"issue\", \"can you help\"],\n",
    "        \"responses\": [\n",
    "            \"Sure, I’m here to help! What do you need assistance with?\",\n",
    "            \"Let me know what problem you're facing, I'll try my best to assist.\",\n",
    "            \"Feel free to ask me anything or describe your issue.\"\n",
    "        ]\n",
    "    },\n",
    "    \"default\": {\n",
    "        \"responses\": [\n",
    "            \"I'm sorry, I didn't quite get that. Could you please rephrase?\",\n",
    "            \"Hmm, I'm not sure I understand. Can you say it differently?\",\n",
    "            \"I'm still learning! Could you try asking in another way?\"\n",
    "        ]\n",
    "    }\n",
    "}\n",
    "\n",
    "\n",
    "# To check intents keys\n",
    "print(intents.keys())\n"
   ]
  },
  {
   "cell_type": "code",
   "execution_count": 3,
   "id": "fa177241-90de-43c5-bb83-33ea17a7bb84",
   "metadata": {},
   "outputs": [
    {
     "name": "stdout",
     "output_type": "stream",
     "text": [
      "Detected Intent: greeting\n"
     ]
    }
   ],
   "source": [
    "def detect_intent(tokens):\n",
    "    \"\"\"\n",
    "    Check tokens against each intent's keywords.\n",
    "    Return the intent that matches first.\n",
    "    If none match, return 'default'.\n",
    "    \"\"\"\n",
    "    for intent, data in intents.items():\n",
    "        if intent == \"default\":\n",
    "            continue\n",
    "        if any(word in tokens for word in data[\"keywords\"]):\n",
    "            return intent\n",
    "    return \"default\"\n",
    "\n",
    "# Test intent detection\n",
    "test_tokens = preprocess(\"Hey, what's up?\")\n",
    "detected_intent = detect_intent(test_tokens)\n",
    "print(f\"Detected Intent: {detected_intent}\")\n"
   ]
  },
  {
   "cell_type": "code",
   "execution_count": 4,
   "id": "17ba9bb4-a718-4709-9494-9eeefbfac50a",
   "metadata": {},
   "outputs": [
    {
     "name": "stdout",
     "output_type": "stream",
     "text": [
      "Hey! Hope you're having a great day! How can I help?\n"
     ]
    }
   ],
   "source": [
    "import random\n",
    "\n",
    "def get_response(intent):\n",
    "    \"\"\"\n",
    "    Return a random response string from the intent's response list.\n",
    "    \"\"\"\n",
    "    responses = intents[intent][\"responses\"]\n",
    "    return random.choice(responses)\n",
    "\n",
    "# Example\n",
    "print(get_response(\"greeting\"))\n"
   ]
  },
  {
   "cell_type": "code",
   "execution_count": null,
   "id": "d0b6b205-99aa-4073-b9f3-21f558c2af72",
   "metadata": {},
   "outputs": [
    {
     "name": "stdout",
     "output_type": "stream",
     "text": [
      "Chatbot: Hi! Type 'exit' or 'quit' to end the chat.\n"
     ]
    },
    {
     "name": "stdin",
     "output_type": "stream",
     "text": [
      "You:  hi\n"
     ]
    },
    {
     "name": "stdout",
     "output_type": "stream",
     "text": [
      "Chatbot: Hey! Hope you're having a great day! How can I help?\n"
     ]
    },
    {
     "name": "stdin",
     "output_type": "stream",
     "text": [
      "You:  greetings\n"
     ]
    },
    {
     "name": "stdout",
     "output_type": "stream",
     "text": [
      "Chatbot: Hello! How can I assist you today?\n"
     ]
    },
    {
     "name": "stdin",
     "output_type": "stream",
     "text": [
      "You:  tell me a joke\n"
     ]
    },
    {
     "name": "stdout",
     "output_type": "stream",
     "text": [
      "Chatbot: Why did the math book look sad? Because it had too many problems!\n"
     ]
    },
    {
     "name": "stdin",
     "output_type": "stream",
     "text": [
      "You:  joke\n"
     ]
    },
    {
     "name": "stdout",
     "output_type": "stream",
     "text": [
      "Chatbot: Why don't scientists trust atoms? Because they make up everything!\n"
     ]
    },
    {
     "name": "stdin",
     "output_type": "stream",
     "text": [
      "You:  joke\n"
     ]
    },
    {
     "name": "stdout",
     "output_type": "stream",
     "text": [
      "Chatbot: Why don't scientists trust atoms? Because they make up everything!\n"
     ]
    },
    {
     "name": "stdin",
     "output_type": "stream",
     "text": [
      "You:  help me\n"
     ]
    },
    {
     "name": "stdout",
     "output_type": "stream",
     "text": [
      "Chatbot: Feel free to ask me anything or describe your issue.\n"
     ]
    },
    {
     "name": "stdin",
     "output_type": "stream",
     "text": [
      "You:  what is time now\n"
     ]
    },
    {
     "name": "stdout",
     "output_type": "stream",
     "text": [
      "Chatbot: Check your watch or phone for the accurate time!\n"
     ]
    },
    {
     "name": "stdin",
     "output_type": "stream",
     "text": [
      "You:  how are you\n"
     ]
    },
    {
     "name": "stdout",
     "output_type": "stream",
     "text": [
      "Chatbot: Hmm, I'm not sure I understand. Can you say it differently?\n"
     ]
    },
    {
     "name": "stdin",
     "output_type": "stream",
     "text": [
      "You:  how are you?\n"
     ]
    },
    {
     "name": "stdout",
     "output_type": "stream",
     "text": [
      "Chatbot: I'm sorry, I didn't quite get that. Could you please rephrase?\n"
     ]
    },
    {
     "name": "stdin",
     "output_type": "stream",
     "text": [
      "You:  how's it going?\n"
     ]
    },
    {
     "name": "stdout",
     "output_type": "stream",
     "text": [
      "Chatbot: I'm sorry, I didn't quite get that. Could you please rephrase?\n"
     ]
    }
   ],
   "source": [
    "def chatbot():\n",
    "    print(\"Chatbot: Hi! Type 'exit' or 'quit' to end the chat.\")\n",
    "    while True:\n",
    "        user_input = input(\"You: \")\n",
    "        if user_input.lower() in [\"exit\", \"quit\"]:\n",
    "            print(\"Chatbot: Goodbye! 👋\")\n",
    "            break\n",
    "        tokens = preprocess(user_input)\n",
    "        intent = detect_intent(tokens)\n",
    "        response = get_response(intent)\n",
    "        print(f\"Chatbot: {response}\")\n",
    "\n",
    "# Run the chatbot\n",
    "chatbot()\n"
   ]
  },
  {
   "cell_type": "code",
   "id": "d8002830-fce4-497b-bb33-4310173691b7",
   "metadata": {
    "jupyter": {
     "is_executing": true
    }
   },
   "source": "chatbot()\n",
   "outputs": [],
   "execution_count": null
  }
 ],
 "metadata": {
  "kernelspec": {
   "display_name": "Python 3 (ipykernel)",
   "language": "python",
   "name": "python3"
  },
  "language_info": {
   "codemirror_mode": {
    "name": "ipython",
    "version": 3
   },
   "file_extension": ".py",
   "mimetype": "text/x-python",
   "name": "python",
   "nbconvert_exporter": "python",
   "pygments_lexer": "ipython3",
   "version": "3.12.7"
  }
 },
 "nbformat": 4,
 "nbformat_minor": 5
}
